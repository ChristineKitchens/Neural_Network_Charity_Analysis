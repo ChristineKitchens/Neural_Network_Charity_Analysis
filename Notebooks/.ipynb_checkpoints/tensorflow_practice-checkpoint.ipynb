{
 "cells": [
  {
   "cell_type": "code",
   "execution_count": 1,
   "id": "77a1b72d",
   "metadata": {},
   "outputs": [],
   "source": [
    "# Import our dependencies\n",
    "import pandas as pd\n",
    "import matplotlib as plt\n",
    "from sklearn.datasets import make_blobs\n",
    "import sklearn as skl\n",
    "import tensorflow as tf"
   ]
  },
  {
   "cell_type": "code",
   "execution_count": 2,
   "id": "1bc8554c",
   "metadata": {},
   "outputs": [
    {
     "data": {
      "text/plain": [
       "<AxesSubplot:xlabel='Feature 1', ylabel='Feature 2'>"
      ]
     },
     "execution_count": 2,
     "metadata": {},
     "output_type": "execute_result"
    },
    {
     "data": {
      "image/png": "[encoded data removed]",
      "text/plain": [
       "<Figure size 432x288 with 2 Axes>"
      ]
     },
     "metadata": {
      "needs_background": "light"
     },
     "output_type": "display_data"
    }
   ],
   "source": [
    "# Generate dummy dataset\n",
    "X, y = make_blobs(n_samples=1000, centers=2, n_features=2, random_state=78)\n",
    "\n",
    "# Creating a DataFrame with the dummy data\n",
    "df = pd.DataFrame(X, columns=[\"Feature 1\", \"Feature 2\"])\n",
    "df[\"Target\"] = y\n",
    "\n",
    "# Plotting the dummy data\n",
    "df.plot.scatter(x=\"Feature 1\", y=\"Feature 2\", c=\"Target\", colormap=\"winter\")"
   ]
  },
  {
   "cell_type": "code",
   "execution_count": 3,
   "id": "adcd9c9e",
   "metadata": {},
   "outputs": [],
   "source": [
    "# Use sklearn to split dataset\n",
    "from sklearn.model_selection import train_test_split\n",
    "X_train, X_test, y_train, y_test = train_test_split(X, y, random_state=78)"
   ]
  },
  {
   "cell_type": "code",
   "execution_count": 4,
   "id": "3299800e",
   "metadata": {},
   "outputs": [],
   "source": [
    "# Create scaler instance\n",
    "X_scaler = skl.preprocessing.StandardScaler()\n",
    "\n",
    "# Fit the scaler\n",
    "X_scaler.fit(X_train)\n",
    "\n",
    "# Scale the data\n",
    "X_train_scaled = X_scaler.transform(X_train)\n",
    "X_test_scaled = X_scaler.transform(X_test)"
   ]
  },
  {
   "cell_type": "code",
   "execution_count": 5,
   "id": "b9a65264",
   "metadata": {},
   "outputs": [],
   "source": [
    "# Create the Keras Sequential model\n",
    "nn_model = tf.keras.models.Sequential()"
   ]
  },
  {
   "cell_type": "code",
   "execution_count": 6,
   "id": "3fb33b9e",
   "metadata": {},
   "outputs": [],
   "source": [
    "# Add our first Dense layer, including the input layer\n",
    "nn_model.add(tf.keras.layers.Dense(units=1, activation=\"relu\", input_dim=2))"
   ]
  },
  {
   "cell_type": "code",
   "execution_count": 7,
   "id": "247a3ffc",
   "metadata": {},
   "outputs": [],
   "source": [
    "# Add the output layer that uses a probability activation function\n",
    "nn_model.add(tf.keras.layers.Dense(units=1, activation=\"sigmoid\"))"
   ]
  },
  {
   "cell_type": "code",
   "execution_count": 8,
   "id": "4f1a2dc8",
   "metadata": {},
   "outputs": [
    {
     "name": "stdout",
     "output_type": "stream",
     "text": [
      "Model: \"sequential\"\n",
      "_________________________________________________________________\n",
      " Layer (type)                Output Shape              Param #   \n",
      "=================================================================\n",
      " dense (Dense)               (None, 1)                 3         \n",
      "                                                                 \n",
      " dense_1 (Dense)             (None, 1)                 2         \n",
      "                                                                 \n",
      "=================================================================\n",
      "Total params: 5\n",
      "Trainable params: 5\n",
      "Non-trainable params: 0\n",
      "_________________________________________________________________\n"
     ]
    }
   ],
   "source": [
    "# Check the structure of the Sequential model\n",
    "nn_model.summary()"
   ]
  },
  {
   "cell_type": "code",
   "execution_count": 9,
   "id": "9b83160a",
   "metadata": {},
   "outputs": [],
   "source": [
    "# Compile the Sequential model together and customize metrics\n",
    "nn_model.compile(loss=\"binary_crossentropy\", optimizer=\"adam\", metrics=[\"accuracy\"])"
   ]
  },
  {
   "cell_type": "code",
   "execution_count": 10,
   "id": "fe1a2abb",
   "metadata": {},
   "outputs": [
    {
     "name": "stdout",
     "output_type": "stream",
     "text": [
      "Epoch 1/100\n",
      "24/24 [==============================] - 0s 651us/step - loss: 0.7910 - accuracy: 0.0213\n",
      "Epoch 2/100\n",
      "24/24 [==============================] - 0s 607us/step - loss: 0.7770 - accuracy: 0.0000e+00\n",
      "Epoch 3/100\n",
      "24/24 [==============================] - 0s 607us/step - loss: 0.7645 - accuracy: 0.0000e+00\n",
      "Epoch 4/100\n",
      "24/24 [==============================] - 0s 564us/step - loss: 0.7538 - accuracy: 0.0027\n",
      "Epoch 5/100\n",
      "24/24 [==============================] - 0s 577us/step - loss: 0.7443 - accuracy: 0.0040\n",
      "Epoch 6/100\n",
      "24/24 [==============================] - 0s 564us/step - loss: 0.7358 - accuracy: 0.0040\n",
      "Epoch 7/100\n",
      "24/24 [==============================] - 0s 934us/step - loss: 0.7285 - accuracy: 0.0053\n",
      "Epoch 8/100\n",
      "24/24 [==============================] - 0s 607us/step - loss: 0.7218 - accuracy: 0.0080\n",
      "Epoch 9/100\n",
      "24/24 [==============================] - 0s 607us/step - loss: 0.7159 - accuracy: 0.0133\n",
      "Epoch 10/100\n",
      "24/24 [==============================] - 0s 607us/step - loss: 0.7106 - accuracy: 0.0267\n",
      "Epoch 11/100\n",
      "24/24 [==============================] - 0s 650us/step - loss: 0.7057 - accuracy: 0.0693\n",
      "Epoch 12/100\n",
      "24/24 [==============================] - 0s 650us/step - loss: 0.7011 - accuracy: 0.2547\n",
      "Epoch 13/100\n",
      "24/24 [==============================] - 0s 650us/step - loss: 0.6969 - accuracy: 0.4747\n",
      "Epoch 14/100\n",
      "24/24 [==============================] - 0s 650us/step - loss: 0.6928 - accuracy: 0.4933\n",
      "Epoch 15/100\n",
      "24/24 [==============================] - 0s 650us/step - loss: 0.6888 - accuracy: 0.4933\n",
      "Epoch 16/100\n",
      "24/24 [==============================] - 0s 607us/step - loss: 0.6845 - accuracy: 0.4933\n",
      "Epoch 17/100\n",
      "24/24 [==============================] - 0s 650us/step - loss: 0.6800 - accuracy: 0.4933\n",
      "Epoch 18/100\n",
      "24/24 [==============================] - 0s 650us/step - loss: 0.6751 - accuracy: 0.4933\n",
      "Epoch 19/100\n",
      "24/24 [==============================] - 0s 650us/step - loss: 0.6696 - accuracy: 0.4933\n",
      "Epoch 20/100\n",
      "24/24 [==============================] - 0s 650us/step - loss: 0.6635 - accuracy: 0.5467\n",
      "Epoch 21/100\n",
      "24/24 [==============================] - 0s 607us/step - loss: 0.6565 - accuracy: 1.0000\n",
      "Epoch 22/100\n",
      "24/24 [==============================] - 0s 636us/step - loss: 0.6485 - accuracy: 1.0000\n",
      "Epoch 23/100\n",
      "24/24 [==============================] - 0s 630us/step - loss: 0.6394 - accuracy: 1.0000\n",
      "Epoch 24/100\n",
      "24/24 [==============================] - 0s 650us/step - loss: 0.6293 - accuracy: 0.9987\n",
      "Epoch 25/100\n",
      "24/24 [==============================] - 0s 737us/step - loss: 0.6180 - accuracy: 1.0000\n",
      "Epoch 26/100\n",
      "24/24 [==============================] - 0s 694us/step - loss: 0.6055 - accuracy: 1.0000\n",
      "Epoch 27/100\n",
      "24/24 [==============================] - 0s 607us/step - loss: 0.5920 - accuracy: 1.0000\n",
      "Epoch 28/100\n",
      "24/24 [==============================] - 0s 650us/step - loss: 0.5776 - accuracy: 1.0000\n",
      "Epoch 29/100\n",
      "24/24 [==============================] - 0s 650us/step - loss: 0.5625 - accuracy: 1.0000\n",
      "Epoch 30/100\n",
      "24/24 [==============================] - 0s 694us/step - loss: 0.5468 - accuracy: 1.0000\n",
      "Epoch 31/100\n",
      "24/24 [==============================] - 0s 650us/step - loss: 0.5308 - accuracy: 1.0000\n",
      "Epoch 32/100\n",
      "24/24 [==============================] - 0s 607us/step - loss: 0.5147 - accuracy: 1.0000\n",
      "Epoch 33/100\n",
      "24/24 [==============================] - 0s 607us/step - loss: 0.4985 - accuracy: 1.0000\n",
      "Epoch 34/100\n",
      "24/24 [==============================] - 0s 650us/step - loss: 0.4825 - accuracy: 1.0000\n",
      "Epoch 35/100\n",
      "24/24 [==============================] - 0s 607us/step - loss: 0.4668 - accuracy: 1.0000\n",
      "Epoch 36/100\n",
      "24/24 [==============================] - 0s 650us/step - loss: 0.4514 - accuracy: 1.0000\n",
      "Epoch 37/100\n",
      "24/24 [==============================] - 0s 650us/step - loss: 0.4366 - accuracy: 1.0000\n",
      "Epoch 38/100\n",
      "24/24 [==============================] - 0s 650us/step - loss: 0.4223 - accuracy: 1.0000\n",
      "Epoch 39/100\n",
      "24/24 [==============================] - 0s 607us/step - loss: 0.4085 - accuracy: 1.0000\n",
      "Epoch 40/100\n",
      "24/24 [==============================] - 0s 605us/step - loss: 0.3952 - accuracy: 1.0000\n",
      "Epoch 41/100\n",
      "24/24 [==============================] - 0s 607us/step - loss: 0.3825 - accuracy: 1.0000\n",
      "Epoch 42/100\n",
      "24/24 [==============================] - 0s 564us/step - loss: 0.3703 - accuracy: 1.0000\n",
      "Epoch 43/100\n",
      "24/24 [==============================] - 0s 607us/step - loss: 0.3587 - accuracy: 1.0000\n",
      "Epoch 44/100\n",
      "24/24 [==============================] - 0s 607us/step - loss: 0.3476 - accuracy: 1.0000\n",
      "Epoch 45/100\n",
      "24/24 [==============================] - 0s 607us/step - loss: 0.3369 - accuracy: 1.0000\n",
      "Epoch 46/100\n",
      "24/24 [==============================] - 0s 607us/step - loss: 0.3268 - accuracy: 1.0000\n",
      "Epoch 47/100\n",
      "24/24 [==============================] - 0s 650us/step - loss: 0.3171 - accuracy: 1.0000\n",
      "Epoch 48/100\n",
      "24/24 [==============================] - 0s 607us/step - loss: 0.3079 - accuracy: 1.0000\n",
      "Epoch 49/100\n",
      "24/24 [==============================] - 0s 694us/step - loss: 0.2990 - accuracy: 1.0000\n",
      "Epoch 50/100\n",
      "24/24 [==============================] - 0s 650us/step - loss: 0.2906 - accuracy: 1.0000\n",
      "Epoch 51/100\n",
      "24/24 [==============================] - 0s 694us/step - loss: 0.2825 - accuracy: 1.0000\n",
      "Epoch 52/100\n",
      "24/24 [==============================] - 0s 650us/step - loss: 0.2747 - accuracy: 1.0000\n",
      "Epoch 53/100\n",
      "24/24 [==============================] - 0s 694us/step - loss: 0.2673 - accuracy: 1.0000\n",
      "Epoch 54/100\n",
      "24/24 [==============================] - 0s 607us/step - loss: 0.2602 - accuracy: 1.0000\n",
      "Epoch 55/100\n",
      "24/24 [==============================] - 0s 650us/step - loss: 0.2533 - accuracy: 1.0000\n",
      "Epoch 56/100\n",
      "24/24 [==============================] - 0s 650us/step - loss: 0.2468 - accuracy: 1.0000\n",
      "Epoch 57/100\n",
      "24/24 [==============================] - 0s 650us/step - loss: 0.2405 - accuracy: 1.0000\n",
      "Epoch 58/100\n",
      "24/24 [==============================] - 0s 737us/step - loss: 0.2344 - accuracy: 1.0000\n",
      "Epoch 59/100\n",
      "24/24 [==============================] - 0s 650us/step - loss: 0.2287 - accuracy: 1.0000\n",
      "Epoch 60/100\n",
      "24/24 [==============================] - 0s 650us/step - loss: 0.2231 - accuracy: 1.0000\n",
      "Epoch 61/100\n",
      "24/24 [==============================] - 0s 694us/step - loss: 0.2177 - accuracy: 1.0000\n",
      "Epoch 62/100\n",
      "24/24 [==============================] - 0s 737us/step - loss: 0.2125 - accuracy: 1.0000\n",
      "Epoch 63/100\n",
      "24/24 [==============================] - 0s 824us/step - loss: 0.2075 - accuracy: 1.0000\n",
      "Epoch 64/100\n",
      "24/24 [==============================] - 0s 737us/step - loss: 0.2027 - accuracy: 1.0000\n",
      "Epoch 65/100\n",
      "24/24 [==============================] - 0s 694us/step - loss: 0.1980 - accuracy: 1.0000\n",
      "Epoch 66/100\n",
      "24/24 [==============================] - 0s 737us/step - loss: 0.1936 - accuracy: 1.0000\n",
      "Epoch 67/100\n",
      "24/24 [==============================] - 0s 824us/step - loss: 0.1892 - accuracy: 1.0000\n",
      "Epoch 68/100\n",
      "24/24 [==============================] - 0s 737us/step - loss: 0.1850 - accuracy: 1.0000\n",
      "Epoch 69/100\n",
      "24/24 [==============================] - 0s 694us/step - loss: 0.1810 - accuracy: 1.0000\n",
      "Epoch 70/100\n",
      "24/24 [==============================] - 0s 564us/step - loss: 0.1771 - accuracy: 1.0000\n",
      "Epoch 71/100\n",
      "24/24 [==============================] - 0s 607us/step - loss: 0.1733 - accuracy: 1.0000\n",
      "Epoch 72/100\n",
      "24/24 [==============================] - 0s 564us/step - loss: 0.1696 - accuracy: 1.0000\n",
      "Epoch 73/100\n",
      "24/24 [==============================] - 0s 564us/step - loss: 0.1661 - accuracy: 1.0000\n",
      "Epoch 74/100\n",
      "24/24 [==============================] - 0s 607us/step - loss: 0.1626 - accuracy: 1.0000\n",
      "Epoch 75/100\n",
      "24/24 [==============================] - 0s 607us/step - loss: 0.1593 - accuracy: 1.0000\n",
      "Epoch 76/100\n",
      "24/24 [==============================] - 0s 607us/step - loss: 0.1560 - accuracy: 1.0000\n",
      "Epoch 77/100\n",
      "24/24 [==============================] - 0s 564us/step - loss: 0.1529 - accuracy: 1.0000\n",
      "Epoch 78/100\n",
      "24/24 [==============================] - 0s 1ms/step - loss: 0.1498 - accuracy: 1.0000\n",
      "Epoch 79/100\n",
      "24/24 [==============================] - 0s 650us/step - loss: 0.1468 - accuracy: 1.0000\n",
      "Epoch 80/100\n",
      "24/24 [==============================] - 0s 607us/step - loss: 0.1439 - accuracy: 1.0000\n",
      "Epoch 81/100\n"
     ]
    },
    {
     "name": "stdout",
     "output_type": "stream",
     "text": [
      "24/24 [==============================] - 0s 607us/step - loss: 0.1411 - accuracy: 1.0000\n",
      "Epoch 82/100\n",
      "24/24 [==============================] - 0s 564us/step - loss: 0.1384 - accuracy: 1.0000\n",
      "Epoch 83/100\n",
      "24/24 [==============================] - 0s 607us/step - loss: 0.1358 - accuracy: 1.0000\n",
      "Epoch 84/100\n",
      "24/24 [==============================] - 0s 564us/step - loss: 0.1332 - accuracy: 1.0000\n",
      "Epoch 85/100\n",
      "24/24 [==============================] - 0s 564us/step - loss: 0.1307 - accuracy: 1.0000\n",
      "Epoch 86/100\n",
      "24/24 [==============================] - 0s 564us/step - loss: 0.1283 - accuracy: 1.0000\n",
      "Epoch 87/100\n",
      "24/24 [==============================] - 0s 607us/step - loss: 0.1259 - accuracy: 1.0000\n",
      "Epoch 88/100\n",
      "24/24 [==============================] - 0s 564us/step - loss: 0.1236 - accuracy: 1.0000\n",
      "Epoch 89/100\n",
      "24/24 [==============================] - 0s 607us/step - loss: 0.1213 - accuracy: 1.0000\n",
      "Epoch 90/100\n",
      "24/24 [==============================] - 0s 606us/step - loss: 0.1191 - accuracy: 1.0000\n",
      "Epoch 91/100\n",
      "24/24 [==============================] - 0s 564us/step - loss: 0.1170 - accuracy: 1.0000\n",
      "Epoch 92/100\n",
      "24/24 [==============================] - 0s 607us/step - loss: 0.1149 - accuracy: 1.0000\n",
      "Epoch 93/100\n",
      "24/24 [==============================] - 0s 607us/step - loss: 0.1129 - accuracy: 1.0000\n",
      "Epoch 94/100\n",
      "24/24 [==============================] - 0s 607us/step - loss: 0.1109 - accuracy: 1.0000\n",
      "Epoch 95/100\n",
      "24/24 [==============================] - 0s 607us/step - loss: 0.1089 - accuracy: 1.0000\n",
      "Epoch 96/100\n",
      "24/24 [==============================] - 0s 607us/step - loss: 0.1070 - accuracy: 1.0000\n",
      "Epoch 97/100\n",
      "24/24 [==============================] - 0s 607us/step - loss: 0.1052 - accuracy: 1.0000\n",
      "Epoch 98/100\n",
      "24/24 [==============================] - 0s 607us/step - loss: 0.1034 - accuracy: 1.0000\n",
      "Epoch 99/100\n",
      "24/24 [==============================] - 0s 607us/step - loss: 0.1017 - accuracy: 1.0000\n",
      "Epoch 100/100\n",
      "24/24 [==============================] - 0s 607us/step - loss: 0.0999 - accuracy: 1.0000\n"
     ]
    }
   ],
   "source": [
    "# Fit the model to the training data\n",
    "fit_model = nn_model.fit(X_train_scaled, y_train, epochs=100)"
   ]
  },
  {
   "cell_type": "code",
   "execution_count": 11,
   "id": "e976cb2d",
   "metadata": {},
   "outputs": [
    {
     "data": {
      "text/plain": [
       "<AxesSubplot:>"
      ]
     },
     "execution_count": 11,
     "metadata": {},
     "output_type": "execute_result"
    },
    {
     "data": {
      "image/png": "[encoded data removed]",
      "text/plain": [
       "<Figure size 432x288 with 1 Axes>"
      ]
     },
     "metadata": {
      "needs_background": "light"
     },
     "output_type": "display_data"
    }
   ],
   "source": [
    "# Create a DataFrame containing training history\n",
    "history_df = pd.DataFrame(fit_model.history, index=range(1,len(fit_model.history[\"loss\"])+1))\n",
    "\n",
    "# Plot the loss\n",
    "history_df.plot(y=\"loss\")"
   ]
  },
  {
   "cell_type": "code",
   "execution_count": 12,
   "id": "9a09a3ff",
   "metadata": {},
   "outputs": [
    {
     "data": {
      "text/plain": [
       "<AxesSubplot:>"
      ]
     },
     "execution_count": 12,
     "metadata": {},
     "output_type": "execute_result"
    },
    {
     "data": {
      "image/png": "[encoded data removed]",
      "text/plain": [
       "<Figure size 432x288 with 1 Axes>"
      ]
     },
     "metadata": {
      "needs_background": "light"
     },
     "output_type": "display_data"
    }
   ],
   "source": [
    "# Plot the accuracy\n",
    "history_df.plot(y=\"accuracy\")"
   ]
  },
  {
   "cell_type": "code",
   "execution_count": 14,
   "id": "bb9b569f",
   "metadata": {},
   "outputs": [
    {
     "name": "stdout",
     "output_type": "stream",
     "text": [
      "8/8 - 0s - loss: 0.0931 - accuracy: 1.0000 - 95ms/epoch - 12ms/step\n",
      "Loss: 0.09310431033372879, Accuracy: 1.0\n"
     ]
    }
   ],
   "source": [
    "# Evaluate the model using the test data\n",
    "model_loss, model_accuracy = nn_model.evaluate(X_test_scaled,y_test,verbose=2)\n",
    "print(f\"Loss: {model_loss}, Accuracy: {model_accuracy}\")"
   ]
  },
  {
   "cell_type": "code",
   "execution_count": 15,
   "id": "0477b406",
   "metadata": {},
   "outputs": [
    {
     "data": {
      "text/plain": [
       "array([[0],\n",
       "       [1],\n",
       "       [0],\n",
       "       [1],\n",
       "       [0],\n",
       "       [0],\n",
       "       [1],\n",
       "       [1],\n",
       "       [1],\n",
       "       [0]])"
      ]
     },
     "execution_count": 15,
     "metadata": {},
     "output_type": "execute_result"
    }
   ],
   "source": [
    "# Predict the classification of a new set of blob data\n",
    "new_X, new_Y = make_blobs(n_samples=10, centers=2, n_features=2, random_state=78)\n",
    "new_X_scaled = X_scaler.transform(new_X)\n",
    "(nn_model.predict(new_X_scaled) > 0.5).astype(\"int32\")"
   ]
  },
  {
   "cell_type": "code",
   "execution_count": 16,
   "id": "7e08e8bf",
   "metadata": {},
   "outputs": [
    {
     "data": {
      "text/plain": [
       "<AxesSubplot:xlabel='Feature 1', ylabel='Feature 2'>"
      ]
     },
     "execution_count": 16,
     "metadata": {},
     "output_type": "execute_result"
    },
    {
     "data": {
      "image/png": "[encoded data removed]",
      "text/plain": [
       "<Figure size 432x288 with 2 Axes>"
      ]
     },
     "metadata": {
      "needs_background": "light"
     },
     "output_type": "display_data"
    }
   ],
   "source": [
    "from sklearn.datasets import make_moons\n",
    "\n",
    "# Creating dummy nonlinear data\n",
    "X_moons, y_moons = make_moons(n_samples=1000, noise=0.08, random_state=78)\n",
    "\n",
    "# Transforming y_moons to a vertical vector\n",
    "y_moons = y_moons.reshape(-1, 1)\n",
    "\n",
    "# Creating a DataFrame to plot the nonlinear dummy data\n",
    "df_moons = pd.DataFrame(X_moons, columns=[\"Feature 1\", \"Feature 2\"])\n",
    "df_moons[\"Target\"] = y_moons\n",
    "\n",
    "# Plot the nonlinear dummy data\n",
    "df_moons.plot.scatter(x=\"Feature 1\",y=\"Feature 2\", c=\"Target\",colormap=\"winter\")"
   ]
  },
  {
   "cell_type": "code",
   "execution_count": 17,
   "id": "4b87282d",
   "metadata": {},
   "outputs": [],
   "source": [
    "# Create training and testing sets\n",
    "X_moon_train, X_moon_test, y_moon_train, y_moon_test = train_test_split(\n",
    "    X_moons, y_moons, random_state=78\n",
    ")\n",
    "\n",
    "# Create the scaler instance\n",
    "X_moon_scaler = skl.preprocessing.StandardScaler()\n",
    "\n",
    "# Fit the scaler\n",
    "X_moon_scaler.fit(X_moon_train)\n",
    "\n",
    "# Scale the data\n",
    "X_moon_train_scaled = X_moon_scaler.transform(X_moon_train)\n",
    "X_moon_test_scaled = X_moon_scaler.transform(X_moon_test)"
   ]
  },
  {
   "cell_type": "code",
   "execution_count": 18,
   "id": "c4acdb93",
   "metadata": {},
   "outputs": [
    {
     "name": "stdout",
     "output_type": "stream",
     "text": [
      "Epoch 1/100\n",
      "24/24 [==============================] - 0s 954us/step - loss: 1.0834 - accuracy: 0.4333\n",
      "Epoch 2/100\n",
      "24/24 [==============================] - 0s 911us/step - loss: 0.9781 - accuracy: 0.4547\n",
      "Epoch 3/100\n",
      "24/24 [==============================] - 0s 911us/step - loss: 0.9048 - accuracy: 0.4773\n",
      "Epoch 4/100\n",
      "24/24 [==============================] - 0s 867us/step - loss: 0.8561 - accuracy: 0.4920\n",
      "Epoch 5/100\n",
      "24/24 [==============================] - 0s 911us/step - loss: 0.8194 - accuracy: 0.5040\n",
      "Epoch 6/100\n",
      "24/24 [==============================] - 0s 997us/step - loss: 0.7912 - accuracy: 0.5213\n",
      "Epoch 7/100\n",
      "24/24 [==============================] - 0s 867us/step - loss: 0.7682 - accuracy: 0.5373\n",
      "Epoch 8/100\n",
      "24/24 [==============================] - 0s 1ms/step - loss: 0.7487 - accuracy: 0.5467\n",
      "Epoch 9/100\n",
      "24/24 [==============================] - 0s 954us/step - loss: 0.7322 - accuracy: 0.5587\n",
      "Epoch 10/100\n",
      "24/24 [==============================] - 0s 954us/step - loss: 0.7180 - accuracy: 0.5693\n",
      "Epoch 11/100\n",
      "24/24 [==============================] - 0s 997us/step - loss: 0.7054 - accuracy: 0.5760\n",
      "Epoch 12/100\n",
      "24/24 [==============================] - 0s 911us/step - loss: 0.6941 - accuracy: 0.5840\n",
      "Epoch 13/100\n",
      "24/24 [==============================] - 0s 911us/step - loss: 0.6841 - accuracy: 0.5880\n",
      "Epoch 14/100\n",
      "24/24 [==============================] - 0s 911us/step - loss: 0.6745 - accuracy: 0.5947\n",
      "Epoch 15/100\n",
      "24/24 [==============================] - 0s 911us/step - loss: 0.6659 - accuracy: 0.6013\n",
      "Epoch 16/100\n",
      "24/24 [==============================] - 0s 867us/step - loss: 0.6579 - accuracy: 0.6080\n",
      "Epoch 17/100\n",
      "24/24 [==============================] - 0s 911us/step - loss: 0.6503 - accuracy: 0.6187\n",
      "Epoch 18/100\n",
      "24/24 [==============================] - 0s 911us/step - loss: 0.6431 - accuracy: 0.6227\n",
      "Epoch 19/100\n",
      "24/24 [==============================] - 0s 867us/step - loss: 0.6364 - accuracy: 0.6280\n",
      "Epoch 20/100\n",
      "24/24 [==============================] - 0s 911us/step - loss: 0.6300 - accuracy: 0.6333\n",
      "Epoch 21/100\n",
      "24/24 [==============================] - 0s 867us/step - loss: 0.6239 - accuracy: 0.6360\n",
      "Epoch 22/100\n",
      "24/24 [==============================] - 0s 1ms/step - loss: 0.6181 - accuracy: 0.6373\n",
      "Epoch 23/100\n",
      "24/24 [==============================] - 0s 1ms/step - loss: 0.6125 - accuracy: 0.6400\n",
      "Epoch 24/100\n",
      "24/24 [==============================] - 0s 1ms/step - loss: 0.6073 - accuracy: 0.6440\n",
      "Epoch 25/100\n",
      "24/24 [==============================] - 0s 1ms/step - loss: 0.6023 - accuracy: 0.6467\n",
      "Epoch 26/100\n",
      "24/24 [==============================] - 0s 1ms/step - loss: 0.5977 - accuracy: 0.6493\n",
      "Epoch 27/100\n",
      "24/24 [==============================] - 0s 1ms/step - loss: 0.5931 - accuracy: 0.6533\n",
      "Epoch 28/100\n",
      "24/24 [==============================] - 0s 1ms/step - loss: 0.5888 - accuracy: 0.6560\n",
      "Epoch 29/100\n",
      "24/24 [==============================] - 0s 1ms/step - loss: 0.5846 - accuracy: 0.6600\n",
      "Epoch 30/100\n",
      "24/24 [==============================] - 0s 1ms/step - loss: 0.5805 - accuracy: 0.6613\n",
      "Epoch 31/100\n",
      "24/24 [==============================] - 0s 1ms/step - loss: 0.5765 - accuracy: 0.6600\n",
      "Epoch 32/100\n",
      "24/24 [==============================] - 0s 1ms/step - loss: 0.5727 - accuracy: 0.6600\n",
      "Epoch 33/100\n",
      "24/24 [==============================] - 0s 1ms/step - loss: 0.5689 - accuracy: 0.6627\n",
      "Epoch 34/100\n",
      "24/24 [==============================] - 0s 1ms/step - loss: 0.5651 - accuracy: 0.6640\n",
      "Epoch 35/100\n",
      "24/24 [==============================] - 0s 1ms/step - loss: 0.5615 - accuracy: 0.6680\n",
      "Epoch 36/100\n",
      "24/24 [==============================] - 0s 997us/step - loss: 0.5580 - accuracy: 0.6707\n",
      "Epoch 37/100\n",
      "24/24 [==============================] - 0s 954us/step - loss: 0.5546 - accuracy: 0.6707\n",
      "Epoch 38/100\n",
      "24/24 [==============================] - 0s 1ms/step - loss: 0.5514 - accuracy: 0.6760\n",
      "Epoch 39/100\n",
      "24/24 [==============================] - 0s 997us/step - loss: 0.5481 - accuracy: 0.6827\n",
      "Epoch 40/100\n",
      "24/24 [==============================] - 0s 1ms/step - loss: 0.5450 - accuracy: 0.6840\n",
      "Epoch 41/100\n",
      "24/24 [==============================] - 0s 954us/step - loss: 0.5418 - accuracy: 0.6853\n",
      "Epoch 42/100\n",
      "24/24 [==============================] - 0s 954us/step - loss: 0.5388 - accuracy: 0.6920\n",
      "Epoch 43/100\n",
      "24/24 [==============================] - 0s 954us/step - loss: 0.5357 - accuracy: 0.6920\n",
      "Epoch 44/100\n",
      "24/24 [==============================] - 0s 911us/step - loss: 0.5327 - accuracy: 0.6960\n",
      "Epoch 45/100\n",
      "24/24 [==============================] - 0s 1ms/step - loss: 0.5297 - accuracy: 0.7027\n",
      "Epoch 46/100\n",
      "24/24 [==============================] - 0s 1ms/step - loss: 0.5268 - accuracy: 0.7053\n",
      "Epoch 47/100\n",
      "24/24 [==============================] - 0s 1ms/step - loss: 0.5239 - accuracy: 0.7093\n",
      "Epoch 48/100\n",
      "24/24 [==============================] - 0s 954us/step - loss: 0.5211 - accuracy: 0.7120\n",
      "Epoch 49/100\n",
      "24/24 [==============================] - 0s 997us/step - loss: 0.5183 - accuracy: 0.7160\n",
      "Epoch 50/100\n",
      "24/24 [==============================] - 0s 981us/step - loss: 0.5154 - accuracy: 0.7160\n",
      "Epoch 51/100\n",
      "24/24 [==============================] - 0s 954us/step - loss: 0.5125 - accuracy: 0.7173\n",
      "Epoch 52/100\n",
      "24/24 [==============================] - 0s 997us/step - loss: 0.5097 - accuracy: 0.7187\n",
      "Epoch 53/100\n",
      "24/24 [==============================] - 0s 954us/step - loss: 0.5070 - accuracy: 0.7200\n",
      "Epoch 54/100\n",
      "24/24 [==============================] - 0s 912us/step - loss: 0.5042 - accuracy: 0.7213\n",
      "Epoch 55/100\n",
      "24/24 [==============================] - 0s 954us/step - loss: 0.5014 - accuracy: 0.7227\n",
      "Epoch 56/100\n",
      "24/24 [==============================] - 0s 911us/step - loss: 0.4985 - accuracy: 0.7253\n",
      "Epoch 57/100\n",
      "24/24 [==============================] - 0s 911us/step - loss: 0.4957 - accuracy: 0.7253\n",
      "Epoch 58/100\n",
      "24/24 [==============================] - 0s 911us/step - loss: 0.4929 - accuracy: 0.7280\n",
      "Epoch 59/100\n",
      "24/24 [==============================] - 0s 954us/step - loss: 0.4901 - accuracy: 0.7280\n",
      "Epoch 60/100\n",
      "24/24 [==============================] - 0s 867us/step - loss: 0.4872 - accuracy: 0.7293\n",
      "Epoch 61/100\n",
      "24/24 [==============================] - 0s 867us/step - loss: 0.4843 - accuracy: 0.7333\n",
      "Epoch 62/100\n",
      "24/24 [==============================] - 0s 867us/step - loss: 0.4811 - accuracy: 0.7387\n",
      "Epoch 63/100\n",
      "24/24 [==============================] - 0s 859us/step - loss: 0.4781 - accuracy: 0.7400\n",
      "Epoch 64/100\n",
      "24/24 [==============================] - 0s 911us/step - loss: 0.4750 - accuracy: 0.7400\n",
      "Epoch 65/100\n",
      "24/24 [==============================] - 0s 867us/step - loss: 0.4720 - accuracy: 0.7427\n",
      "Epoch 66/100\n",
      "24/24 [==============================] - 0s 867us/step - loss: 0.4689 - accuracy: 0.7440\n",
      "Epoch 67/100\n",
      "24/24 [==============================] - 0s 892us/step - loss: 0.4658 - accuracy: 0.7493\n",
      "Epoch 68/100\n",
      "24/24 [==============================] - 0s 867us/step - loss: 0.4628 - accuracy: 0.7493\n",
      "Epoch 69/100\n",
      "24/24 [==============================] - 0s 911us/step - loss: 0.4598 - accuracy: 0.7480\n",
      "Epoch 70/100\n",
      "24/24 [==============================] - 0s 997us/step - loss: 0.4567 - accuracy: 0.7520\n",
      "Epoch 71/100\n",
      "24/24 [==============================] - 0s 911us/step - loss: 0.4536 - accuracy: 0.7560\n",
      "Epoch 72/100\n",
      "24/24 [==============================] - 0s 954us/step - loss: 0.4504 - accuracy: 0.7560\n",
      "Epoch 73/100\n",
      "24/24 [==============================] - 0s 1ms/step - loss: 0.4472 - accuracy: 0.7560\n",
      "Epoch 74/100\n",
      "24/24 [==============================] - 0s 997us/step - loss: 0.4440 - accuracy: 0.7640\n",
      "Epoch 75/100\n",
      "24/24 [==============================] - 0s 997us/step - loss: 0.4407 - accuracy: 0.7640\n",
      "Epoch 76/100\n",
      "24/24 [==============================] - 0s 1ms/step - loss: 0.4374 - accuracy: 0.7653\n",
      "Epoch 77/100\n",
      "24/24 [==============================] - 0s 997us/step - loss: 0.4343 - accuracy: 0.7667\n",
      "Epoch 78/100\n",
      "24/24 [==============================] - 0s 997us/step - loss: 0.4308 - accuracy: 0.7667\n",
      "Epoch 79/100\n",
      "24/24 [==============================] - 0s 997us/step - loss: 0.4277 - accuracy: 0.7720\n",
      "Epoch 80/100\n",
      "24/24 [==============================] - 0s 997us/step - loss: 0.4243 - accuracy: 0.7760\n",
      "Epoch 81/100\n"
     ]
    },
    {
     "name": "stdout",
     "output_type": "stream",
     "text": [
      "24/24 [==============================] - 0s 1ms/step - loss: 0.4211 - accuracy: 0.7827\n",
      "Epoch 82/100\n",
      "24/24 [==============================] - 0s 997us/step - loss: 0.4177 - accuracy: 0.7853\n",
      "Epoch 83/100\n",
      "24/24 [==============================] - 0s 954us/step - loss: 0.4145 - accuracy: 0.7867\n",
      "Epoch 84/100\n",
      "24/24 [==============================] - 0s 954us/step - loss: 0.4112 - accuracy: 0.7893\n",
      "Epoch 85/100\n",
      "24/24 [==============================] - 0s 954us/step - loss: 0.4078 - accuracy: 0.7933\n",
      "Epoch 86/100\n",
      "24/24 [==============================] - 0s 954us/step - loss: 0.4045 - accuracy: 0.7933\n",
      "Epoch 87/100\n",
      "24/24 [==============================] - 0s 954us/step - loss: 0.4011 - accuracy: 0.7947\n",
      "Epoch 88/100\n",
      "24/24 [==============================] - 0s 911us/step - loss: 0.3978 - accuracy: 0.7960\n",
      "Epoch 89/100\n",
      "24/24 [==============================] - 0s 911us/step - loss: 0.3946 - accuracy: 0.8027\n",
      "Epoch 90/100\n",
      "24/24 [==============================] - 0s 997us/step - loss: 0.3910 - accuracy: 0.8027\n",
      "Epoch 91/100\n",
      "24/24 [==============================] - 0s 997us/step - loss: 0.3876 - accuracy: 0.8053\n",
      "Epoch 92/100\n",
      "24/24 [==============================] - 0s 911us/step - loss: 0.3843 - accuracy: 0.8080\n",
      "Epoch 93/100\n",
      "24/24 [==============================] - 0s 997us/step - loss: 0.3809 - accuracy: 0.8107\n",
      "Epoch 94/100\n",
      "24/24 [==============================] - 0s 954us/step - loss: 0.3777 - accuracy: 0.8107\n",
      "Epoch 95/100\n",
      "24/24 [==============================] - 0s 963us/step - loss: 0.3744 - accuracy: 0.8147\n",
      "Epoch 96/100\n",
      "24/24 [==============================] - 0s 911us/step - loss: 0.3711 - accuracy: 0.8147\n",
      "Epoch 97/100\n",
      "24/24 [==============================] - 0s 867us/step - loss: 0.3679 - accuracy: 0.8173\n",
      "Epoch 98/100\n",
      "24/24 [==============================] - 0s 997us/step - loss: 0.3646 - accuracy: 0.8200\n",
      "Epoch 99/100\n",
      "24/24 [==============================] - 0s 911us/step - loss: 0.3613 - accuracy: 0.8227\n",
      "Epoch 100/100\n",
      "24/24 [==============================] - 0s 911us/step - loss: 0.3581 - accuracy: 0.8267\n"
     ]
    }
   ],
   "source": [
    "# Training the model with the nonlinear data\n",
    "model_moon = nn_model.fit(X_moon_train_scaled, y_moon_train, epochs=100, shuffle=True)"
   ]
  },
  {
   "cell_type": "code",
   "execution_count": 19,
   "id": "c694dc3a",
   "metadata": {},
   "outputs": [
    {
     "data": {
      "text/plain": [
       "<AxesSubplot:>"
      ]
     },
     "execution_count": 19,
     "metadata": {},
     "output_type": "execute_result"
    },
    {
     "data": {
      "image/png": "[encoded data removed]",
      "text/plain": [
       "<Figure size 432x288 with 1 Axes>"
      ]
     },
     "metadata": {
      "needs_background": "light"
     },
     "output_type": "display_data"
    }
   ],
   "source": [
    "# Create a DataFrame containing training history\n",
    "history_df = pd.DataFrame(model_moon.history, index=range(1,len(model_moon.history[\"loss\"])+1))\n",
    "\n",
    "# Plot the loss\n",
    "history_df.plot(y=\"loss\")"
   ]
  },
  {
   "cell_type": "code",
   "execution_count": 20,
   "id": "31e8c382",
   "metadata": {},
   "outputs": [
    {
     "data": {
      "text/plain": [
       "<AxesSubplot:>"
      ]
     },
     "execution_count": 20,
     "metadata": {},
     "output_type": "execute_result"
    },
    {
     "data": {
      "image/png": "[encoded data removed]",
      "text/plain": [
       "<Figure size 432x288 with 1 Axes>"
      ]
     },
     "metadata": {
      "needs_background": "light"
     },
     "output_type": "display_data"
    }
   ],
   "source": [
    "# Plot the accuracy\n",
    "history_df.plot(y=\"accuracy\")"
   ]
  },
  {
   "cell_type": "code",
   "execution_count": 21,
   "id": "920fc04a",
   "metadata": {},
   "outputs": [],
   "source": [
    "# Generate our new Sequential model\n",
    "new_model = tf.keras.models.Sequential()"
   ]
  },
  {
   "cell_type": "code",
   "execution_count": 22,
   "id": "049ff6b9",
   "metadata": {},
   "outputs": [],
   "source": [
    "# Add the input and hidden layer\n",
    "number_inputs = 2\n",
    "number_hidden_nodes = 6\n",
    "\n",
    "new_model.add(tf.keras.layers.Dense(units=number_hidden_nodes, activation=\"relu\", input_dim=number_inputs))\n",
    "\n",
    "# Add the output layer that uses a probability activation function\n",
    "new_model.add(tf.keras.layers.Dense(units=1, activation=\"sigmoid\"))"
   ]
  },
  {
   "cell_type": "code",
   "execution_count": 23,
   "id": "f6472410",
   "metadata": {},
   "outputs": [
    {
     "name": "stdout",
     "output_type": "stream",
     "text": [
      "Epoch 1/100\n",
      "24/24 [==============================] - 0s 781us/step - loss: 0.6186 - accuracy: 0.5307\n",
      "Epoch 2/100\n",
      "24/24 [==============================] - 0s 694us/step - loss: 0.5779 - accuracy: 0.5307\n",
      "Epoch 3/100\n",
      "24/24 [==============================] - 0s 650us/step - loss: 0.5423 - accuracy: 0.4987\n",
      "Epoch 4/100\n",
      "24/24 [==============================] - 0s 694us/step - loss: 0.5111 - accuracy: 0.5853\n",
      "Epoch 5/100\n",
      "24/24 [==============================] - 0s 694us/step - loss: 0.4831 - accuracy: 0.6773\n",
      "Epoch 6/100\n",
      "24/24 [==============================] - 0s 694us/step - loss: 0.4587 - accuracy: 0.7933\n",
      "Epoch 7/100\n",
      "24/24 [==============================] - 0s 694us/step - loss: 0.4365 - accuracy: 0.8613\n",
      "Epoch 8/100\n",
      "24/24 [==============================] - 0s 607us/step - loss: 0.4159 - accuracy: 0.8760\n",
      "Epoch 9/100\n",
      "24/24 [==============================] - 0s 564us/step - loss: 0.3977 - accuracy: 0.8720\n",
      "Epoch 10/100\n",
      "24/24 [==============================] - 0s 607us/step - loss: 0.3809 - accuracy: 0.8747\n",
      "Epoch 11/100\n",
      "24/24 [==============================] - 0s 607us/step - loss: 0.3652 - accuracy: 0.8773\n",
      "Epoch 12/100\n",
      "24/24 [==============================] - 0s 564us/step - loss: 0.3510 - accuracy: 0.8773\n",
      "Epoch 13/100\n",
      "24/24 [==============================] - 0s 650us/step - loss: 0.3377 - accuracy: 0.8773\n",
      "Epoch 14/100\n",
      "24/24 [==============================] - 0s 607us/step - loss: 0.3258 - accuracy: 0.8773\n",
      "Epoch 15/100\n",
      "24/24 [==============================] - 0s 607us/step - loss: 0.3154 - accuracy: 0.8773\n",
      "Epoch 16/100\n",
      "24/24 [==============================] - 0s 607us/step - loss: 0.3063 - accuracy: 0.8773\n",
      "Epoch 17/100\n",
      "24/24 [==============================] - 0s 607us/step - loss: 0.2985 - accuracy: 0.8773\n",
      "Epoch 18/100\n",
      "24/24 [==============================] - 0s 564us/step - loss: 0.2918 - accuracy: 0.8787\n",
      "Epoch 19/100\n",
      "24/24 [==============================] - 0s 564us/step - loss: 0.2861 - accuracy: 0.8813\n",
      "Epoch 20/100\n",
      "24/24 [==============================] - 0s 607us/step - loss: 0.2812 - accuracy: 0.8813\n",
      "Epoch 21/100\n",
      "24/24 [==============================] - 0s 607us/step - loss: 0.2769 - accuracy: 0.8813\n",
      "Epoch 22/100\n",
      "24/24 [==============================] - 0s 607us/step - loss: 0.2732 - accuracy: 0.8827\n",
      "Epoch 23/100\n",
      "24/24 [==============================] - 0s 607us/step - loss: 0.2700 - accuracy: 0.8840\n",
      "Epoch 24/100\n",
      "24/24 [==============================] - 0s 607us/step - loss: 0.2672 - accuracy: 0.8853\n",
      "Epoch 25/100\n",
      "24/24 [==============================] - 0s 607us/step - loss: 0.2648 - accuracy: 0.8867\n",
      "Epoch 26/100\n",
      "24/24 [==============================] - 0s 607us/step - loss: 0.2626 - accuracy: 0.8880\n",
      "Epoch 27/100\n",
      "24/24 [==============================] - 0s 867us/step - loss: 0.2606 - accuracy: 0.8880\n",
      "Epoch 28/100\n",
      "24/24 [==============================] - 0s 737us/step - loss: 0.2588 - accuracy: 0.8920\n",
      "Epoch 29/100\n",
      "24/24 [==============================] - 0s 694us/step - loss: 0.2572 - accuracy: 0.8907\n",
      "Epoch 30/100\n",
      "24/24 [==============================] - 0s 650us/step - loss: 0.2557 - accuracy: 0.8907\n",
      "Epoch 31/100\n",
      "24/24 [==============================] - 0s 694us/step - loss: 0.2544 - accuracy: 0.8907\n",
      "Epoch 32/100\n",
      "24/24 [==============================] - 0s 694us/step - loss: 0.2533 - accuracy: 0.8920\n",
      "Epoch 33/100\n",
      "24/24 [==============================] - 0s 694us/step - loss: 0.2524 - accuracy: 0.8920\n",
      "Epoch 34/100\n",
      "24/24 [==============================] - 0s 650us/step - loss: 0.2514 - accuracy: 0.8933\n",
      "Epoch 35/100\n",
      "24/24 [==============================] - 0s 650us/step - loss: 0.2505 - accuracy: 0.8947\n",
      "Epoch 36/100\n",
      "24/24 [==============================] - 0s 650us/step - loss: 0.2498 - accuracy: 0.8947\n",
      "Epoch 37/100\n",
      "24/24 [==============================] - 0s 737us/step - loss: 0.2493 - accuracy: 0.8947\n",
      "Epoch 38/100\n",
      "24/24 [==============================] - 0s 694us/step - loss: 0.2486 - accuracy: 0.8947\n",
      "Epoch 39/100\n",
      "24/24 [==============================] - 0s 607us/step - loss: 0.2481 - accuracy: 0.8947\n",
      "Epoch 40/100\n",
      "24/24 [==============================] - 0s 607us/step - loss: 0.2476 - accuracy: 0.8947\n",
      "Epoch 41/100\n",
      "24/24 [==============================] - 0s 607us/step - loss: 0.2472 - accuracy: 0.8947\n",
      "Epoch 42/100\n",
      "24/24 [==============================] - 0s 607us/step - loss: 0.2467 - accuracy: 0.8933\n",
      "Epoch 43/100\n",
      "24/24 [==============================] - 0s 607us/step - loss: 0.2462 - accuracy: 0.8933\n",
      "Epoch 44/100\n",
      "24/24 [==============================] - 0s 607us/step - loss: 0.2459 - accuracy: 0.8933\n",
      "Epoch 45/100\n",
      "24/24 [==============================] - 0s 607us/step - loss: 0.2457 - accuracy: 0.8933\n",
      "Epoch 46/100\n",
      "24/24 [==============================] - 0s 607us/step - loss: 0.2451 - accuracy: 0.8920\n",
      "Epoch 47/100\n",
      "24/24 [==============================] - 0s 564us/step - loss: 0.2447 - accuracy: 0.8920\n",
      "Epoch 48/100\n",
      "24/24 [==============================] - 0s 607us/step - loss: 0.2444 - accuracy: 0.8920\n",
      "Epoch 49/100\n",
      "24/24 [==============================] - 0s 607us/step - loss: 0.2440 - accuracy: 0.8920\n",
      "Epoch 50/100\n",
      "24/24 [==============================] - 0s 607us/step - loss: 0.2437 - accuracy: 0.8920\n",
      "Epoch 51/100\n",
      "24/24 [==============================] - 0s 607us/step - loss: 0.2435 - accuracy: 0.8920\n",
      "Epoch 52/100\n",
      "24/24 [==============================] - 0s 607us/step - loss: 0.2430 - accuracy: 0.8920\n",
      "Epoch 53/100\n",
      "24/24 [==============================] - 0s 607us/step - loss: 0.2428 - accuracy: 0.8920\n",
      "Epoch 54/100\n",
      "24/24 [==============================] - 0s 694us/step - loss: 0.2424 - accuracy: 0.8920\n",
      "Epoch 55/100\n",
      "24/24 [==============================] - 0s 650us/step - loss: 0.2421 - accuracy: 0.8920\n",
      "Epoch 56/100\n",
      "24/24 [==============================] - 0s 650us/step - loss: 0.2418 - accuracy: 0.8920\n",
      "Epoch 57/100\n",
      "24/24 [==============================] - 0s 607us/step - loss: 0.2415 - accuracy: 0.8920\n",
      "Epoch 58/100\n",
      "24/24 [==============================] - 0s 607us/step - loss: 0.2412 - accuracy: 0.8920\n",
      "Epoch 59/100\n",
      "24/24 [==============================] - 0s 564us/step - loss: 0.2409 - accuracy: 0.8920\n",
      "Epoch 60/100\n",
      "24/24 [==============================] - 0s 564us/step - loss: 0.2405 - accuracy: 0.8920\n",
      "Epoch 61/100\n",
      "24/24 [==============================] - 0s 564us/step - loss: 0.2401 - accuracy: 0.8920\n",
      "Epoch 62/100\n",
      "24/24 [==============================] - 0s 607us/step - loss: 0.2398 - accuracy: 0.8920\n",
      "Epoch 63/100\n",
      "24/24 [==============================] - 0s 607us/step - loss: 0.2395 - accuracy: 0.8920\n",
      "Epoch 64/100\n",
      "24/24 [==============================] - 0s 635us/step - loss: 0.2393 - accuracy: 0.8920\n",
      "Epoch 65/100\n",
      "24/24 [==============================] - 0s 607us/step - loss: 0.2388 - accuracy: 0.8920\n",
      "Epoch 66/100\n",
      "24/24 [==============================] - 0s 607us/step - loss: 0.2385 - accuracy: 0.8920\n",
      "Epoch 67/100\n",
      "24/24 [==============================] - 0s 607us/step - loss: 0.2382 - accuracy: 0.8920\n",
      "Epoch 68/100\n",
      "24/24 [==============================] - 0s 694us/step - loss: 0.2379 - accuracy: 0.8920\n",
      "Epoch 69/100\n",
      "24/24 [==============================] - 0s 694us/step - loss: 0.2376 - accuracy: 0.8920\n",
      "Epoch 70/100\n",
      "24/24 [==============================] - 0s 675us/step - loss: 0.2373 - accuracy: 0.8920\n",
      "Epoch 71/100\n",
      "24/24 [==============================] - 0s 694us/step - loss: 0.2369 - accuracy: 0.8933\n",
      "Epoch 72/100\n",
      "24/24 [==============================] - 0s 650us/step - loss: 0.2366 - accuracy: 0.8920\n",
      "Epoch 73/100\n",
      "24/24 [==============================] - 0s 954us/step - loss: 0.2364 - accuracy: 0.8920\n",
      "Epoch 74/100\n",
      "24/24 [==============================] - 0s 824us/step - loss: 0.2360 - accuracy: 0.8920\n",
      "Epoch 75/100\n",
      "24/24 [==============================] - 0s 694us/step - loss: 0.2357 - accuracy: 0.8933\n",
      "Epoch 76/100\n",
      "24/24 [==============================] - 0s 694us/step - loss: 0.2354 - accuracy: 0.8933\n",
      "Epoch 77/100\n",
      "24/24 [==============================] - 0s 650us/step - loss: 0.2351 - accuracy: 0.8933\n",
      "Epoch 78/100\n",
      "24/24 [==============================] - 0s 694us/step - loss: 0.2348 - accuracy: 0.8933\n",
      "Epoch 79/100\n",
      "24/24 [==============================] - 0s 694us/step - loss: 0.2345 - accuracy: 0.8933\n",
      "Epoch 80/100\n",
      "24/24 [==============================] - 0s 737us/step - loss: 0.2344 - accuracy: 0.8933\n",
      "Epoch 81/100\n"
     ]
    },
    {
     "name": "stdout",
     "output_type": "stream",
     "text": [
      "24/24 [==============================] - 0s 737us/step - loss: 0.2340 - accuracy: 0.8933\n",
      "Epoch 82/100\n",
      "24/24 [==============================] - 0s 650us/step - loss: 0.2337 - accuracy: 0.8933\n",
      "Epoch 83/100\n",
      "24/24 [==============================] - 0s 650us/step - loss: 0.2334 - accuracy: 0.8947\n",
      "Epoch 84/100\n",
      "24/24 [==============================] - 0s 594us/step - loss: 0.2329 - accuracy: 0.8947\n",
      "Epoch 85/100\n",
      "24/24 [==============================] - 0s 607us/step - loss: 0.2326 - accuracy: 0.8947\n",
      "Epoch 86/100\n",
      "24/24 [==============================] - 0s 647us/step - loss: 0.2323 - accuracy: 0.8947\n",
      "Epoch 87/100\n",
      "24/24 [==============================] - 0s 650us/step - loss: 0.2320 - accuracy: 0.8947\n",
      "Epoch 88/100\n",
      "24/24 [==============================] - 0s 650us/step - loss: 0.2317 - accuracy: 0.8947\n",
      "Epoch 89/100\n",
      "24/24 [==============================] - 0s 650us/step - loss: 0.2314 - accuracy: 0.8960\n",
      "Epoch 90/100\n",
      "24/24 [==============================] - 0s 694us/step - loss: 0.2312 - accuracy: 0.8960\n",
      "Epoch 91/100\n",
      "24/24 [==============================] - 0s 694us/step - loss: 0.2308 - accuracy: 0.8947\n",
      "Epoch 92/100\n",
      "24/24 [==============================] - 0s 650us/step - loss: 0.2305 - accuracy: 0.8947\n",
      "Epoch 93/100\n",
      "24/24 [==============================] - 0s 607us/step - loss: 0.2300 - accuracy: 0.8960\n",
      "Epoch 94/100\n",
      "24/24 [==============================] - 0s 607us/step - loss: 0.2298 - accuracy: 0.8960\n",
      "Epoch 95/100\n",
      "24/24 [==============================] - 0s 650us/step - loss: 0.2292 - accuracy: 0.8960\n",
      "Epoch 96/100\n",
      "24/24 [==============================] - 0s 607us/step - loss: 0.2289 - accuracy: 0.8960\n",
      "Epoch 97/100\n",
      "24/24 [==============================] - 0s 607us/step - loss: 0.2286 - accuracy: 0.8960\n",
      "Epoch 98/100\n",
      "24/24 [==============================] - 0s 564us/step - loss: 0.2283 - accuracy: 0.8960\n",
      "Epoch 99/100\n",
      "24/24 [==============================] - 0s 607us/step - loss: 0.2278 - accuracy: 0.8960\n",
      "Epoch 100/100\n",
      "24/24 [==============================] - 0s 607us/step - loss: 0.2272 - accuracy: 0.8960\n"
     ]
    }
   ],
   "source": [
    "# Compile the Sequential model together and customize metrics\n",
    "new_model.compile(loss=\"binary_crossentropy\", optimizer=\"adam\", metrics=[\"accuracy\"])\n",
    "\n",
    "# Fit the model to the training data\n",
    "new_fit_model = new_model.fit(X_moon_train_scaled, y_moon_train, epochs=100, shuffle=True)"
   ]
  },
  {
   "cell_type": "code",
   "execution_count": null,
   "id": "0ca6b540",
   "metadata": {},
   "outputs": [],
   "source": []
  }
 ],
 "metadata": {
  "kernelspec": {
   "display_name": "mlenv",
   "language": "python",
   "name": "mlenv"
  },
  "language_info": {
   "codemirror_mode": {
    "name": "ipython",
    "version": 3
   },
   "file_extension": ".py",
   "mimetype": "text/x-python",
   "name": "python",
   "nbconvert_exporter": "python",
   "pygments_lexer": "ipython3",
   "version": "3.7.11"
  }
 },
 "nbformat": 4,
 "nbformat_minor": 5
}
